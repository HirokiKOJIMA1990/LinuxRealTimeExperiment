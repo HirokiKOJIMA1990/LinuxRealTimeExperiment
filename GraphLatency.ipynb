{
 "cells": [
  {
   "cell_type": "code",
   "execution_count": 1,
   "metadata": {},
   "outputs": [],
   "source": [
    "import pandas as pd\n",
    "import matplotlib\n",
    "import matplotlib.pyplot as plt"
   ]
  },
  {
   "cell_type": "code",
   "execution_count": 43,
   "metadata": {
    "scrolled": true
   },
   "outputs": [
    {
     "name": "stdout",
     "output_type": "stream",
     "text": [
      "count more than thread: 546\n",
      "2409.0\n",
      "157579\n",
      "88237\n",
      "87538\n",
      "86340\n",
      "85980\n",
      "82435\n",
      "81152\n",
      "75507\n",
      "74517\n",
      "72114\n",
      "70406\n",
      "69837\n",
      "68820\n",
      "68527\n",
      "68029\n",
      "67703\n",
      "66487\n",
      "66356\n",
      "65937\n",
      "65665\n",
      "65595\n",
      "65497\n",
      "65468\n",
      "65333\n",
      "64757\n",
      "64707\n",
      "63896\n",
      "63715\n",
      "63309\n",
      "63142\n",
      "63132\n",
      "62842\n",
      "62640\n",
      "62428\n",
      "62422\n",
      "62389\n",
      "62340\n",
      "62041\n",
      "62017\n",
      "61797\n",
      "61776\n",
      "61520\n",
      "61439\n",
      "61338\n",
      "61322\n",
      "61126\n",
      "61086\n",
      "61064\n",
      "60979\n",
      "60903\n",
      "60835\n",
      "60602\n",
      "60554\n",
      "60537\n",
      "60483\n",
      "60327\n",
      "60103\n",
      "60029\n",
      "59973\n",
      "59768\n",
      "59662\n",
      "59533\n",
      "59476\n",
      "59443\n",
      "59428\n",
      "59350\n",
      "59310\n",
      "59308\n",
      "59292\n",
      "59289\n",
      "59103\n",
      "59053\n",
      "58993\n",
      "58781\n",
      "58736\n",
      "58689\n",
      "58651\n",
      "58642\n",
      "58635\n",
      "58605\n",
      "58531\n",
      "58312\n",
      "58303\n",
      "58291\n",
      "58090\n",
      "58044\n",
      "57909\n",
      "57870\n",
      "57792\n",
      "57636\n",
      "57621\n",
      "57509\n",
      "57397\n",
      "57367\n",
      "57366\n",
      "57325\n",
      "57318\n",
      "57296\n",
      "57182\n",
      "57078\n"
     ]
    }
   ],
   "source": [
    "file_name = \"./output_cpu_changes_every_2^17times_#3.txt\" \n",
    "\n",
    "df = pd.read_csv(file_name)\n",
    "count_more_th = len(df[df['time'] > 30000])\n",
    "print('count more than thread: ' + str(count_more_th))\n",
    "print(df['time'].median())\n",
    "\n",
    "\n",
    "times = df['time'].sort_values(ascending=False)\n",
    "for time in times[0:100]:\n",
    "    print(time)"
   ]
  },
  {
   "cell_type": "code",
   "execution_count": 40,
   "metadata": {
    "scrolled": true
   },
   "outputs": [
    {
     "data": {
      "text/plain": [
       "(array([0., 0., 0., ..., 9., 8., 2.]),\n",
       " array([0.0000000e+00, 2.9985000e+00, 5.9970000e+00, ..., 5.9910030e+03,\n",
       "        5.9940015e+03, 5.9970000e+03]),\n",
       " <a list of 2000 Patch objects>)"
      ]
     },
     "execution_count": 40,
     "metadata": {},
     "output_type": "execute_result"
    },
    {
     "data": {
      "image/png": "[encoded data removed]",
      "text/plain": [
       "<Figure size 432x288 with 1 Axes>"
      ]
     },
     "metadata": {
      "needs_background": "light"
     },
     "output_type": "display_data"
    }
   ],
   "source": [
    "import matplotlib.pyplot as plt\n",
    "df_plot = df[df['time'] < 6000]\n",
    "plt.hist(df_plot['time'], bins=2000, range=[0, df_plot['time'].max()])"
   ]
  }
 ],
 "metadata": {
  "kernelspec": {
   "display_name": "Python 3",
   "language": "python",
   "name": "python3"
  },
  "language_info": {
   "codemirror_mode": {
    "name": "ipython",
    "version": 3
   },
   "file_extension": ".py",
   "mimetype": "text/x-python",
   "name": "python",
   "nbconvert_exporter": "python",
   "pygments_lexer": "ipython3",
   "version": "3.7.0"
  }
 },
 "nbformat": 4,
 "nbformat_minor": 4
}
